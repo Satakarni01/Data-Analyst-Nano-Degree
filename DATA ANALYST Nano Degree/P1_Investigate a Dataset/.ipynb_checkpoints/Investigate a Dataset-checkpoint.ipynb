{
 "cells": [
  {
   "cell_type": "markdown",
   "metadata": {},
   "source": [
    "# Titanic Survivals Chances \n",
    "### Abstract\n",
    "This is a tentative data analysis to determine a set of features of passengers that have survived in Titanic disaster. As per my data analysis, the features of passengers for high probability of survival are   \n",
    "\n",
    "1) being a female, and    \n",
    "2) under the age of 40, and either  \n",
    "3) passenger of class type 1 (or),  \n",
    "4) embarked at station C    \n",
    "\n",
    "Points 1 and 2 are correlated to empathy factor, while points 3, and 4 are correlated to economic-class factor. The actual casuality is not determined from this analysis.     \n",
    "The results in this analysis are based on the titanic dataset provided by kaggle. "
   ]
  },
  {
   "cell_type": "code",
   "execution_count": 114,
   "metadata": {
    "collapsed": true
   },
   "outputs": [],
   "source": [
    "#import necessary libraries \n",
    "import pandas as pd\n",
    "import numpy as np\n",
    "import matplotlib.pyplot as plt"
   ]
  },
  {
   "cell_type": "code",
   "execution_count": 115,
   "metadata": {
    "collapsed": false
   },
   "outputs": [],
   "source": [
    "#download the dataset either from URL or copy to your local drive. \n",
    "#If using local drive, povide the path of your local drive to filepath variable\n",
    "url = 'https://d17h27t6h515a5.cloudfront.net/topher/2016/September/57e9a84c_titanic-data/titanic-data.csv'\n",
    "filepath = './dataset/titanic-data.csv'\n",
    "titanic = pd.read_csv(filepath_or_buffer=filepath)"
   ]
  },
  {
   "cell_type": "code",
   "execution_count": 116,
   "metadata": {
    "collapsed": false
   },
   "outputs": [
    {
     "data": {
      "text/html": [
       "<div>\n",
       "<style>\n",
       "    .dataframe thead tr:only-child th {\n",
       "        text-align: right;\n",
       "    }\n",
       "\n",
       "    .dataframe thead th {\n",
       "        text-align: left;\n",
       "    }\n",
       "\n",
       "    .dataframe tbody tr th {\n",
       "        vertical-align: top;\n",
       "    }\n",
       "</style>\n",
       "<table border=\"1\" class=\"dataframe\">\n",
       "  <thead>\n",
       "    <tr style=\"text-align: right;\">\n",
       "      <th></th>\n",
       "      <th>PassengerId</th>\n",
       "      <th>Survived</th>\n",
       "      <th>Pclass</th>\n",
       "      <th>Name</th>\n",
       "      <th>Sex</th>\n",
       "      <th>Age</th>\n",
       "      <th>SibSp</th>\n",
       "      <th>Parch</th>\n",
       "      <th>Ticket</th>\n",
       "      <th>Fare</th>\n",
       "      <th>Cabin</th>\n",
       "      <th>Embarked</th>\n",
       "    </tr>\n",
       "  </thead>\n",
       "  <tbody>\n",
       "    <tr>\n",
       "      <th>0</th>\n",
       "      <td>1</td>\n",
       "      <td>0</td>\n",
       "      <td>3</td>\n",
       "      <td>Braund, Mr. Owen Harris</td>\n",
       "      <td>male</td>\n",
       "      <td>22.0</td>\n",
       "      <td>1</td>\n",
       "      <td>0</td>\n",
       "      <td>A/5 21171</td>\n",
       "      <td>7.2500</td>\n",
       "      <td>NaN</td>\n",
       "      <td>S</td>\n",
       "    </tr>\n",
       "    <tr>\n",
       "      <th>1</th>\n",
       "      <td>2</td>\n",
       "      <td>1</td>\n",
       "      <td>1</td>\n",
       "      <td>Cumings, Mrs. John Bradley (Florence Briggs Th...</td>\n",
       "      <td>female</td>\n",
       "      <td>38.0</td>\n",
       "      <td>1</td>\n",
       "      <td>0</td>\n",
       "      <td>PC 17599</td>\n",
       "      <td>71.2833</td>\n",
       "      <td>C85</td>\n",
       "      <td>C</td>\n",
       "    </tr>\n",
       "    <tr>\n",
       "      <th>2</th>\n",
       "      <td>3</td>\n",
       "      <td>1</td>\n",
       "      <td>3</td>\n",
       "      <td>Heikkinen, Miss. Laina</td>\n",
       "      <td>female</td>\n",
       "      <td>26.0</td>\n",
       "      <td>0</td>\n",
       "      <td>0</td>\n",
       "      <td>STON/O2. 3101282</td>\n",
       "      <td>7.9250</td>\n",
       "      <td>NaN</td>\n",
       "      <td>S</td>\n",
       "    </tr>\n",
       "    <tr>\n",
       "      <th>3</th>\n",
       "      <td>4</td>\n",
       "      <td>1</td>\n",
       "      <td>1</td>\n",
       "      <td>Futrelle, Mrs. Jacques Heath (Lily May Peel)</td>\n",
       "      <td>female</td>\n",
       "      <td>35.0</td>\n",
       "      <td>1</td>\n",
       "      <td>0</td>\n",
       "      <td>113803</td>\n",
       "      <td>53.1000</td>\n",
       "      <td>C123</td>\n",
       "      <td>S</td>\n",
       "    </tr>\n",
       "    <tr>\n",
       "      <th>4</th>\n",
       "      <td>5</td>\n",
       "      <td>0</td>\n",
       "      <td>3</td>\n",
       "      <td>Allen, Mr. William Henry</td>\n",
       "      <td>male</td>\n",
       "      <td>35.0</td>\n",
       "      <td>0</td>\n",
       "      <td>0</td>\n",
       "      <td>373450</td>\n",
       "      <td>8.0500</td>\n",
       "      <td>NaN</td>\n",
       "      <td>S</td>\n",
       "    </tr>\n",
       "  </tbody>\n",
       "</table>\n",
       "</div>"
      ],
      "text/plain": [
       "   PassengerId  Survived  Pclass  \\\n",
       "0            1         0       3   \n",
       "1            2         1       1   \n",
       "2            3         1       3   \n",
       "3            4         1       1   \n",
       "4            5         0       3   \n",
       "\n",
       "                                                Name     Sex   Age  SibSp  \\\n",
       "0                            Braund, Mr. Owen Harris    male  22.0      1   \n",
       "1  Cumings, Mrs. John Bradley (Florence Briggs Th...  female  38.0      1   \n",
       "2                             Heikkinen, Miss. Laina  female  26.0      0   \n",
       "3       Futrelle, Mrs. Jacques Heath (Lily May Peel)  female  35.0      1   \n",
       "4                           Allen, Mr. William Henry    male  35.0      0   \n",
       "\n",
       "   Parch            Ticket     Fare Cabin Embarked  \n",
       "0      0         A/5 21171   7.2500   NaN        S  \n",
       "1      0          PC 17599  71.2833   C85        C  \n",
       "2      0  STON/O2. 3101282   7.9250   NaN        S  \n",
       "3      0            113803  53.1000  C123        S  \n",
       "4      0            373450   8.0500   NaN        S  "
      ]
     },
     "execution_count": 116,
     "metadata": {},
     "output_type": "execute_result"
    }
   ],
   "source": [
    "titanic.head()"
   ]
  },
  {
   "cell_type": "code",
   "execution_count": 117,
   "metadata": {
    "collapsed": false
   },
   "outputs": [
    {
     "name": "stdout",
     "output_type": "stream",
     "text": [
      "Total Number of passengers = 891\n",
      "Percentage survived = 38.38\n",
      "Percentage not survived 61.62\n"
     ]
    }
   ],
   "source": [
    "#Total Passenger Count\n",
    "titSurvPerct = pd.Series(titanic.groupby(['Survived'])['PassengerId'].count()/titanic['PassengerId'].count())\n",
    "print('Total Number of passengers = {}'.format(titanic['PassengerId'].count()))\n",
    "print('Percentage survived = {}\\nPercentage not survived {}'.format(round(titSurvPerct[1]*100, 2), round(titSurvPerct[0]*100, 2)))\n",
    "\n"
   ]
  },
  {
   "cell_type": "markdown",
   "metadata": {},
   "source": [
    "### Survival by Gender analysis"
   ]
  },
  {
   "cell_type": "code",
   "execution_count": 118,
   "metadata": {
    "collapsed": false
   },
   "outputs": [
    {
     "data": {
      "text/plain": [
       "Sex\n",
       "female    233\n",
       "male      109\n",
       "Name: Survived, dtype: int64"
      ]
     },
     "execution_count": 118,
     "metadata": {},
     "output_type": "execute_result"
    }
   ],
   "source": [
    "titanic.groupby(['Sex'])['Survived'].sum()"
   ]
  },
  {
   "cell_type": "markdown",
   "metadata": {},
   "source": [
    "It appears that female passengers have survived in good number compare to male passengers. Let us compare, survived female passegers w.r.t total female passengers and survived male passegers w.r.t total male passengers. "
   ]
  },
  {
   "cell_type": "code",
   "execution_count": 119,
   "metadata": {
    "collapsed": false
   },
   "outputs": [
    {
     "name": "stdout",
     "output_type": "stream",
     "text": [
      "Percentage of female survived = 74.2 \n",
      "Percentage of male survived = 18.89 \n"
     ]
    }
   ],
   "source": [
    "FemaleTotal = titanic[titanic['Sex'] == 'female']['Survived'].count()\n",
    "FemaleSurvived = titanic[(titanic['Sex'] == 'female') & (titanic['Survived'] == 1)]['Survived'].count()\n",
    "FemalePercent = (float(FemaleSurvived)/float(FemaleTotal))*100.00\n",
    "MaleTotal = titanic[titanic['Sex'] == 'male']['Survived'].count()\n",
    "MaleSurvived = titanic[(titanic['Sex'] == 'male') & (titanic['Survived'] == 1)]['Survived'].count()\n",
    "MalePercent = (float(MaleSurvived)/float(MaleTotal))*100.00\n",
    "print(\"Percentage of female survived = {} \".format(round(FemalePercent,2)))\n",
    "print(\"Percentage of male survived = {} \".format(round(MalePercent,2)))"
   ]
  },
  {
   "cell_type": "markdown",
   "metadata": {},
   "source": [
    "### Survival by Pclass analysis \n",
    "Pclass is the Ticket class. The lower Pclass number indicates higher class. "
   ]
  },
  {
   "cell_type": "code",
   "execution_count": 122,
   "metadata": {
    "collapsed": true
   },
   "outputs": [],
   "source": [
    "#function for rounding pandas series\n",
    "def round2dec(s):\n",
    "    '''input parameter a pandas series\n",
    "    returns a series with decimal precision'''\n",
    "    return round(s,2)"
   ]
  },
  {
   "cell_type": "code",
   "execution_count": 124,
   "metadata": {
    "collapsed": false
   },
   "outputs": [
    {
     "name": "stdout",
     "output_type": "stream",
     "text": [
      "Survival by Pclass = \n",
      "Pclass\n",
      "1    62.96\n",
      "2    47.28\n",
      "3    24.24\n",
      "Name: Survived, dtype: float64\n"
     ]
    }
   ],
   "source": [
    "#Pclass survival analysis\n",
    "PclassSuvived = (titanic.groupby(['Pclass'])['Survived'].sum()/titanic.groupby(['Pclass'])['Survived'].count())*100\n",
    "print('Survival by Pclass = \\n{}'.format(PclassSuvived.apply(round2dec)))"
   ]
  },
  {
   "cell_type": "markdown",
   "metadata": {},
   "source": [
    "From the dataset, the higher class passengers (with lower Pclass number) were given better assistance for survival. "
   ]
  },
  {
   "cell_type": "markdown",
   "metadata": {},
   "source": [
    "### Survival by Embarked analysis \n",
    "Embarked implies Port of Embarkation. Data dictionary for stations are as below:  \n",
    "1. C = Cherbourg, \n",
    "2. Q = Queenstown, \n",
    "3. S = Southampton"
   ]
  },
  {
   "cell_type": "code",
   "execution_count": 125,
   "metadata": {
    "collapsed": false
   },
   "outputs": [
    {
     "name": "stdout",
     "output_type": "stream",
     "text": [
      "Survival by Embarked = \n",
      "Embarked\n",
      "C    55.36\n",
      "Q    38.96\n",
      "S    33.70\n",
      "Name: Survived, dtype: float64\n"
     ]
    }
   ],
   "source": [
    "#embarked survival analysis\n",
    "EmbarkedSurvived = titanic.groupby(['Embarked'])['Survived'].sum()/titanic.groupby(['Embarked'])['Survived'].count()\n",
    "EmbarkedSurvived = EmbarkedSurvived * 100\n",
    "EmbarkedSurvived = EmbarkedSurvived.apply(round2dec)\n",
    "print('Survival by Embarked = \\n{}'.format(EmbarkedSurvived))"
   ]
  },
  {
   "cell_type": "markdown",
   "metadata": {},
   "source": [
    "The passengers from Cherbourg have survived by more than 50%, while other two city passengers have survived by less than 40%.    \n",
    "\n",
    "Let us find out the economic contribution from each of those embarked cities. This will help determine if economic class of passengers embarking from these cities has any role in their survival chances.   "
   ]
  },
  {
   "cell_type": "code",
   "execution_count": 128,
   "metadata": {
    "collapsed": false
   },
   "outputs": [
    {
     "name": "stdout",
     "output_type": "stream",
     "text": [
      "Financial contribution from each Embarked city:\n",
      "Embarked\n",
      "C    10072.30\n",
      "Q     1022.25\n",
      "S    17439.40\n",
      "Name: Fare, dtype: float64\n"
     ]
    }
   ],
   "source": [
    "FarebyEm = titanic.groupby(['Embarked'])['Fare'].sum()\n",
    "print('Financial contribution from each Embarked city:\\n{}'.format(FarebyEm.apply(round2dec)))"
   ]
  },
  {
   "cell_type": "code",
   "execution_count": 129,
   "metadata": {
    "collapsed": false
   },
   "outputs": [
    {
     "name": "stdout",
     "output_type": "stream",
     "text": [
      "Per passenger financial contribution from each Embarked city:\n",
      "Embarked\n",
      "C    59.95\n",
      "Q    13.28\n",
      "S    27.08\n",
      "dtype: float64\n"
     ]
    }
   ],
   "source": [
    "PassenCountbyEm = titanic.groupby(['Embarked'])['PassengerId'].count()\n",
    "print('Per passenger financial contribution from each Embarked city:\\n{}'.format((FarebyEm/PassenCountbyEm).apply(round2dec)))"
   ]
  },
  {
   "cell_type": "markdown",
   "metadata": {},
   "source": [
    "From the dataset analysis,   \n",
    "1. Passengers embarked from (S)Southampton can be considered as middle-class and have survived in least numbers. \n",
    "2. Passengers embarked from (C)Cherbourg appear to be rich-class, and have survived in large percentage. \n",
    "3. Passengers embarked from (Q)Queenstown could be as low-class economically, and have managed to survive better than passengers from Southampton."
   ]
  },
  {
   "cell_type": "markdown",
   "metadata": {},
   "source": [
    "### Survival by Age analysis "
   ]
  },
  {
   "cell_type": "code",
   "execution_count": 130,
   "metadata": {
    "collapsed": false
   },
   "outputs": [
    {
     "name": "stdout",
     "output_type": "stream",
     "text": [
      "Mean Age = 29.7. \n",
      "Age Stadard Deviation = 14.52.\n",
      "Maximum Age = 80.0\n"
     ]
    }
   ],
   "source": [
    "# Age: Descriptive Statistics\n",
    "AgeMean = round(titanic['Age'].mean(),2)\n",
    "AgeDeviation = round(titanic['Age'].std(ddof=0),2)\n",
    "AgeMax = round(titanic['Age'].max(),2)\n",
    "\n",
    "print('Mean Age = {}. \\nAge Stadard Deviation = {}.\\nMaximum Age = {}'.format(AgeMean, AgeDeviation , AgeMax ))"
   ]
  },
  {
   "cell_type": "code",
   "execution_count": 131,
   "metadata": {
    "collapsed": false
   },
   "outputs": [
    {
     "data": {
      "image/png": "[encoded data removed]",
      "text/plain": [
       "<matplotlib.figure.Figure at 0x117823c50>"
      ]
     },
     "metadata": {},
     "output_type": "display_data"
    }
   ],
   "source": [
    "# Distribution plot of Survival by Age\n",
    "plt.close()\n",
    "plt.scatter(data=titanic[titanic['Survived'] == 1], x='Age', y='PassengerId', c='green', s=50, alpha=0.5, label='Alive')\n",
    "plt.scatter(data=titanic[titanic['Survived'] == 0], x='Age', y='PassengerId', c='red', s=50, alpha=0.3, label='Died')\n",
    "plt.title('Survival by Age')\n",
    "plt.xlabel('Age')\n",
    "plt.ylabel('Passenger ID')\n",
    "plt.legend()\n",
    "plt.show()"
   ]
  },
  {
   "cell_type": "markdown",
   "metadata": {},
   "source": [
    "The above plot is useful to explore the age of the passengers and their survived status. The green circles indicating survived status as alive is predominant for ages 40 and below. We will create a panadas series for age groups 0 to 20, 20+ to 40, 40+ to 60, and 60+ to 80 with values being the probablity of their survival. "
   ]
  },
  {
   "cell_type": "code",
   "execution_count": 132,
   "metadata": {
    "collapsed": false
   },
   "outputs": [
    {
     "data": {
      "text/plain": [
       "Below 20             23.976608\n",
       "Between 20 And 40    44.736842\n",
       "Between 40 And 60    14.619883\n",
       "Above 60              2.046784\n",
       "dtype: float64"
      ]
     },
     "execution_count": 132,
     "metadata": {},
     "output_type": "execute_result"
    }
   ],
   "source": [
    "Below20 = (float(titanic[titanic['Age'] <= 20.0]['Survived'].sum())/float(titanic['Survived'].sum()))*100.00\n",
    "Bet20And40 = (float(titanic[(titanic['Age'] > 20.0) & (titanic['Age'] <= 40.0)]['Survived'].sum())/float(titanic['Survived'].sum()))*100\n",
    "Bet40And60 = (float(titanic[(titanic['Age'] > 40.0) & (titanic['Age'] <= 60.0)]['Survived'].sum())/float(titanic['Survived'].sum()))*100\n",
    "Above60 = (float(titanic[titanic['Age'] >= 60.0]['Survived'].sum())/float(titanic['Survived'].sum()))*100\n",
    "AgeRangeSurvive = pd.Series(data=(Below20, Bet20And40, Bet40And60, Above60),\n",
    "                            index=('Below 20', 'Between 20 And 40', 'Between 40 And 60', 'Above 60'))\n",
    "AgeRangeSurvive"
   ]
  },
  {
   "cell_type": "code",
   "execution_count": 133,
   "metadata": {
    "collapsed": false
   },
   "outputs": [
    {
     "data": {
      "image/png": "[encoded data removed]",
      "text/plain": [
       "<matplotlib.figure.Figure at 0x117950790>"
      ]
     },
     "metadata": {},
     "output_type": "display_data"
    }
   ],
   "source": [
    "plt.close()\n",
    "AgeRangeSurvive.plot.barh()\n",
    "plt.title('Percentage survived by Age Group')\n",
    "plt.ylabel('Age Group')\n",
    "plt.xlabel('Percentage Survived')\n",
    "plt.show()"
   ]
  },
  {
   "cell_type": "markdown",
   "metadata": {},
   "source": [
    "From the above analysis on age, we can conclude that young passengers of age 40 or less have survived in large numbers than passengers older than 40 years. "
   ]
  },
  {
   "cell_type": "markdown",
   "metadata": {},
   "source": [
    "### Combining the features \n",
    "Here I combine three independent variables to determine the probability of the dependent variable 'Survival'. "
   ]
  },
  {
   "cell_type": "code",
   "execution_count": 134,
   "metadata": {
    "collapsed": false
   },
   "outputs": [
    {
     "name": "stdout",
     "output_type": "stream",
     "text": [
      "Survival % of female passengers with ticket class#1 and embarked from Cherbourg = 97.67\n"
     ]
    }
   ],
   "source": [
    "FemalePClass1EmbC = float(titanic[(titanic['Sex'] == 'female') & (titanic['Pclass'] == 1) & (titanic['Embarked'] == 'C')]['Survived'].sum())\n",
    "FemalePClass1EmbCTotal = float(titanic[(titanic['Sex'] == 'female') & (titanic['Pclass'] == 1) & (titanic['Embarked'] == 'C')]['Survived'].count())\n",
    "x = float(FemalePClass1EmbC/FemalePClass1EmbCTotal)*100.00\n",
    "x = round(x,2)\n",
    "print('Survival % of female passengers with ticket class#1 and embarked from Cherbourg = {}'.format(x))"
   ]
  },
  {
   "cell_type": "code",
   "execution_count": 135,
   "metadata": {
    "collapsed": false
   },
   "outputs": [
    {
     "name": "stdout",
     "output_type": "stream",
     "text": [
      "Survival % of female passengers with ticket class#1 and are less than or equal to 40 years of age = 96.61\n"
     ]
    }
   ],
   "source": [
    "FemalePClass1Age = float(titanic[(titanic['Sex'] == 'female') & (titanic['Pclass'] == 1) & (titanic['Age'] <= 40)]['Survived'].sum())\n",
    "FemalePClass1AgeTotal = float(titanic[(titanic['Sex'] == 'female') & (titanic['Pclass'] == 1) & (titanic['Age'] <= 40)]['Survived'].count())\n",
    "y = float(FemalePClass1Age/FemalePClass1AgeTotal)*100.00\n",
    "y = round(y,2)\n",
    "print('Survival % of female passengers with ticket class#1 and are less than or equal to 40 years of age = {}'.format(y))"
   ]
  },
  {
   "cell_type": "markdown",
   "metadata": {
    "collapsed": true
   },
   "source": [
    "# Conclusion \n",
    "As shown in this descriptive analysis, the survival changes of a passenger are high with following features:   \n",
    "\n",
    "1) being a female, and    \n",
    "2) under the age of 40, and either  \n",
    "3) passenger of class type 1 (or),  \n",
    "4) embarked at station C \n",
    "\n",
    "The future research of this analysis would be train a predictive model using a machine learning algorithm such as random forest. This trained model can applied to a new pool of passengers to predict their survival changes in the event of disaster like Titanic. \n"
   ]
  }
 ],
 "metadata": {
  "anaconda-cloud": {},
  "kernelspec": {
   "display_name": "Python [conda root]",
   "language": "python",
   "name": "conda-root-py"
  },
  "language_info": {
   "codemirror_mode": {
    "name": "ipython",
    "version": 2
   },
   "file_extension": ".py",
   "mimetype": "text/x-python",
   "name": "python",
   "nbconvert_exporter": "python",
   "pygments_lexer": "ipython2",
   "version": "2.7.13"
  }
 },
 "nbformat": 4,
 "nbformat_minor": 1
}
